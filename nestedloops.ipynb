{
 "cells": [
  {
   "cell_type": "code",
   "execution_count": 2,
   "id": "91e1fd2f",
   "metadata": {},
   "outputs": [
    {
     "name": "stdout",
     "output_type": "stream",
     "text": [
      "7\n"
     ]
    }
   ],
   "source": [
    "#Given the names and grades for each student in a class of N students, store them in a nested list and print the name(s) of any student(s) having the second lowest grade.\n",
    "\n",
    "\n",
    "N = int(input())\n",
    "\n",
    "\n",
    "students = []\n",
    "for _ in range(N):\n",
    "    name = input()\n",
    "    grade = float(input())\n",
    "    students.append([name, grade])\n",
    "\n",
    "\n",
    "grades = sorted(set([grade for name, grade in students]))\n",
    "\n",
    "\n",
    "second_lowest = grades[1]\n",
    "\n",
    "\n",
    "second_lowest_students = [name for name, grade in students if grade == second_lowest]\n",
    "\n",
    "\n",
    "for name in sorted(second_lowest_students):\n",
    "    print(name)"
   ]
  },
  {
   "cell_type": "code",
   "execution_count": null,
   "id": "c118219c",
   "metadata": {},
   "outputs": [],
   "source": [
    "#The provided code stub will read in a dictionary containing key/value pairs of name:[marks] for a list of students. Print the average of the marks array for the student name provided, showing 2 places after the decimal.\n",
    "\n",
    "n = int(input())\n",
    "student_marks = {}\n",
    "for _ in range(n):\n",
    "        inputs=input().split()\n",
    "        if inputs:\n",
    "           name=inputs[0]\n",
    "           scores = list(map(float, inputs[1:]))\n",
    "        student_marks[name] = scores\n",
    "query_name = input()\n",
    "marks=student_marks[query_name]\n",
    "average=sum(marks)/len(marks)\n",
    "print(\"{:.2f}\".format(average))"
   ]
  }
 ],
 "metadata": {
  "kernelspec": {
   "display_name": "Python 3",
   "language": "python",
   "name": "python3"
  },
  "language_info": {
   "codemirror_mode": {
    "name": "ipython",
    "version": 3
   },
   "file_extension": ".py",
   "mimetype": "text/x-python",
   "name": "python",
   "nbconvert_exporter": "python",
   "pygments_lexer": "ipython3",
   "version": "3.8.4"
  }
 },
 "nbformat": 4,
 "nbformat_minor": 5
}
